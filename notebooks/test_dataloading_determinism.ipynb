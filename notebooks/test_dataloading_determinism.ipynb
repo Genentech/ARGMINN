{
 "cells": [
  {
   "cell_type": "code",
   "execution_count": 1,
   "id": "2bbb89fb",
   "metadata": {},
   "outputs": [],
   "source": [
    "%load_ext autoreload\n",
    "%autoreload 2\n",
    "import sys\n",
    "sys.path.append(\"../src\")\n",
    "import feature.experimental_dataset as experimental_dataset\n",
    "import feature.simulated_dataset as simulated_dataset\n",
    "import feature.util as feature_util\n",
    "import numpy as np\n",
    "import tqdm.notebook"
   ]
  },
  {
   "cell_type": "code",
   "execution_count": 2,
   "id": "b1d1cbde",
   "metadata": {},
   "outputs": [],
   "source": [
    "peaks_bed_path = \"/home/tsenga5/mechint_regnet/data/encode/chipseq/ENCSR607XFI_CTCF_HepG2/ENCFF664UGR_idrpeaks.bed.gz\"\n",
    "\n",
    "genome_fasta_path = \"/home/tsenga5/mechint_regnet/data/genomes/hg38.fa\"\n",
    "chrom_sizes_path = \"/home/tsenga5/mechint_regnet/data/genomes/GRCh38_EBV.chrom.sizes.tsv\"\n",
    "batch_size = 128\n",
    "input_length = 500\n",
    "input_center_overlap = 400\n",
    "negative_ratio = 1\n",
    "revcomp = True\n",
    "num_workers = 2\n",
    "data_seed = 123"
   ]
  },
  {
   "cell_type": "code",
   "execution_count": 3,
   "id": "31125510-929d-4c3e-865c-f7f0a60944f4",
   "metadata": {},
   "outputs": [
    {
     "name": "stderr",
     "output_type": "stream",
     "text": [
      "/home/tsenga5/miniforge3/envs/mechint/lib/python3.12/site-packages/torch/utils/data/dataloader.py:558: UserWarning: This DataLoader will create 2 worker processes in total. Our suggested max number of worker in current system is 1, which is smaller than what this DataLoader is going to create. Please be aware that excessive worker creation might get DataLoader running slow or even freeze, lower the worker number to avoid potential slowness/freeze if necessary.\n",
      "  warnings.warn(_create_warning_msg(\n",
      "/home/tsenga5/miniforge3/envs/mechint/lib/python3.12/site-packages/torch/utils/data/dataloader.py:558: UserWarning: This DataLoader will create 2 worker processes in total. Our suggested max number of worker in current system is 1, which is smaller than what this DataLoader is going to create. Please be aware that excessive worker creation might get DataLoader running slow or even freeze, lower the worker number to avoid potential slowness/freeze if necessary.\n",
      "  warnings.warn(_create_warning_msg(\n"
     ]
    }
   ],
   "source": [
    "data_loader_1 = experimental_dataset.create_data_loader(\n",
    "    peaks_bed_path, genome_fasta_path, chrom_sizes_path, batch_size,\n",
    "    input_length, input_center_overlap, negative_ratio, revcomp, num_workers,\n",
    "    data_seed, chrom_set=[\"chr21\"], return_coords=True\n",
    ")\n",
    "data_loader_2 = experimental_dataset.create_data_loader(\n",
    "    peaks_bed_path, genome_fasta_path, chrom_sizes_path, batch_size,\n",
    "    input_length, input_center_overlap, negative_ratio, revcomp, num_workers,\n",
    "    data_seed, chrom_set=[\"chr21\"], return_coords=True\n",
    ")"
   ]
  },
  {
   "cell_type": "code",
   "execution_count": 4,
   "id": "ada9ae7a-b26b-45c4-91e3-168ac5c4a916",
   "metadata": {},
   "outputs": [
    {
     "name": "stdout",
     "output_type": "stream",
     "text": [
      "{'bit_generator': 'PCG64', 'state': {'state': 98423212233957053049683177625231049430, 'inc': 17686443629577124697969402389330893883}, 'has_uint32': 1, 'uinteger': 1597002389}\n"
     ]
    },
    {
     "data": {
      "application/vnd.jupyter.widget-view+json": {
       "model_id": "cd379f5647af4181bf396dea3692f470",
       "version_major": 2,
       "version_minor": 0
      },
      "text/plain": [
       "  0%|          | 0/22 [00:00<?, ?it/s]"
      ]
     },
     "metadata": {},
     "output_type": "display_data"
    },
    {
     "name": "stdout",
     "output_type": "stream",
     "text": [
      "{'bit_generator': 'PCG64', 'state': {'state': 284875759728818632356215597596530428350, 'inc': 17686443629577124697969402389330893883}, 'has_uint32': 1, 'uinteger': 3970679553}\n"
     ]
    },
    {
     "data": {
      "application/vnd.jupyter.widget-view+json": {
       "model_id": "a3d1285930c24a5f9e1e9c4d2641ae8a",
       "version_major": 2,
       "version_minor": 0
      },
      "text/plain": [
       "  0%|          | 0/22 [00:00<?, ?it/s]"
      ]
     },
     "metadata": {},
     "output_type": "display_data"
    },
    {
     "name": "stdout",
     "output_type": "stream",
     "text": [
      "{'bit_generator': 'PCG64', 'state': {'state': 280792087133618858882770275075456899387, 'inc': 17686443629577124697969402389330893883}, 'has_uint32': 1, 'uinteger': 1836400246}\n"
     ]
    },
    {
     "data": {
      "application/vnd.jupyter.widget-view+json": {
       "model_id": "cb14899ae79b471f83541f82edd3c8c6",
       "version_major": 2,
       "version_minor": 0
      },
      "text/plain": [
       "  0%|          | 0/22 [00:00<?, ?it/s]"
      ]
     },
     "metadata": {},
     "output_type": "display_data"
    },
    {
     "name": "stdout",
     "output_type": "stream",
     "text": [
      "{'bit_generator': 'PCG64', 'state': {'state': 98423212233957053049683177625231049430, 'inc': 17686443629577124697969402389330893883}, 'has_uint32': 1, 'uinteger': 1597002389}\n"
     ]
    },
    {
     "data": {
      "application/vnd.jupyter.widget-view+json": {
       "model_id": "b771079e7ca84ea887728032c35777da",
       "version_major": 2,
       "version_minor": 0
      },
      "text/plain": [
       "  0%|          | 0/22 [00:00<?, ?it/s]"
      ]
     },
     "metadata": {},
     "output_type": "display_data"
    },
    {
     "name": "stdout",
     "output_type": "stream",
     "text": [
      "{'bit_generator': 'PCG64', 'state': {'state': 284875759728818632356215597596530428350, 'inc': 17686443629577124697969402389330893883}, 'has_uint32': 1, 'uinteger': 3970679553}\n"
     ]
    },
    {
     "data": {
      "application/vnd.jupyter.widget-view+json": {
       "model_id": "0cee42cfe27f429f99599a9a69539989",
       "version_major": 2,
       "version_minor": 0
      },
      "text/plain": [
       "  0%|          | 0/22 [00:00<?, ?it/s]"
      ]
     },
     "metadata": {},
     "output_type": "display_data"
    },
    {
     "name": "stdout",
     "output_type": "stream",
     "text": [
      "{'bit_generator': 'PCG64', 'state': {'state': 280792087133618858882770275075456899387, 'inc': 17686443629577124697969402389330893883}, 'has_uint32': 1, 'uinteger': 1836400246}\n"
     ]
    },
    {
     "data": {
      "application/vnd.jupyter.widget-view+json": {
       "model_id": "c15249938e4c46b294dcb4c48f61533c",
       "version_major": 2,
       "version_minor": 0
      },
      "text/plain": [
       "  0%|          | 0/22 [00:00<?, ?it/s]"
      ]
     },
     "metadata": {},
     "output_type": "display_data"
    }
   ],
   "source": [
    "num_epochs = 3\n",
    "all_coords, all_seqs = [], []\n",
    "for data_loader in (data_loader_1, data_loader_2):\n",
    "    coords, seqs = [], []\n",
    "    for _ in range(num_epochs):\n",
    "        data_loader.dataset.on_epoch_start()\n",
    "        print(data_loader.dataset.rng.bit_generator.state)\n",
    "        for batch in tqdm.notebook.tqdm(data_loader):\n",
    "            coords.extend([(\"%s:%d-%d\" % tuple(row)) for row in batch[2]])\n",
    "            seqs.extend(feature_util.one_hot_to_seqs(batch[0]))\n",
    "    all_coords.append(coords)\n",
    "    all_seqs.append(seqs)"
   ]
  },
  {
   "cell_type": "code",
   "execution_count": 5,
   "id": "5b999d8f-d3a2-42e7-bd1c-b21f67fd1f98",
   "metadata": {},
   "outputs": [
    {
     "name": "stdout",
     "output_type": "stream",
     "text": [
      "Coordinates generated by loader 1: 4168\n",
      "Coordinates generated to loader 2: 4168\n",
      "Coordinates shared between loader 1 and loader 2: 4168\n",
      "\n",
      "Sequences generated by loader 1: 7725\n",
      "Sequences generated to loader 2: 7725\n",
      "Sequences shared between loader 1 and loader 2: 7725\n"
     ]
    }
   ],
   "source": [
    "print(\"Coordinates generated by loader 1: %d\" % len(set(all_coords[0])))\n",
    "print(\"Coordinates generated to loader 2: %d\" % len(set(all_coords[1])))\n",
    "print(\"Coordinates shared between loader 1 and loader 2: %d\" % len(set(all_coords[0]) & set(all_coords[1])))\n",
    "print()\n",
    "print(\"Sequences generated by loader 1: %d\" % len(set(all_seqs[0])))\n",
    "print(\"Sequences generated to loader 2: %d\" % len(set(all_seqs[1])))\n",
    "print(\"Sequences shared between loader 1 and loader 2: %d\" % len(set(all_seqs[0]) & set(all_seqs[1])))"
   ]
  }
 ],
 "metadata": {
  "kernelspec": {
   "display_name": "Python 3 (ipykernel)",
   "language": "python",
   "name": "python3"
  },
  "language_info": {
   "codemirror_mode": {
    "name": "ipython",
    "version": 3
   },
   "file_extension": ".py",
   "mimetype": "text/x-python",
   "name": "python",
   "nbconvert_exporter": "python",
   "pygments_lexer": "ipython3",
   "version": "3.12.3"
  }
 },
 "nbformat": 4,
 "nbformat_minor": 5
}
